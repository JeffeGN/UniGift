{
 "cells": [
  {
   "cell_type": "markdown",
   "id": "36fbb290-0757-4b09-b7f4-7892d3daccc3",
   "metadata": {},
   "source": [
    "# 1 - Importação de bibliotecas e dados"
   ]
  },
  {
   "cell_type": "code",
   "execution_count": 1,
   "id": "18ea7932-6789-48ea-ac23-d0faecae687e",
   "metadata": {},
   "outputs": [],
   "source": [
    "import pandas as pd\n",
    "import numpy as np\n",
    "import matplotlib.pyplot as plt\n",
    "import seaborn as sns\n",
    "# Importação do módulo OS, que permite interage com o Sistema Operacional\n",
    "import os\n",
    "# Definindo caminho para o arquivo bruto\n",
    "dataset_path = r\"data/OnlineRetail.csv\"\n",
    "# Alguns arquivos usam ISO-8859-1 para caracteres especiais\n",
    "df = pd.read_csv(dataset_path, encoding=\"ISO-8859-1\")"
   ]
  },
  {
   "cell_type": "markdown",
   "id": "a7625dd8-26c7-47d0-bf8b-1a78cacbd853",
   "metadata": {},
   "source": [
    "# 2 - Análise Exploratória des Dados (EDA)"
   ]
  },
  {
   "cell_type": "markdown",
   "id": "4e3586de-dade-4bf9-80b1-39facd0c1dac",
   "metadata": {},
   "source": [
    "## 2.1 Visualização do dataframe"
   ]
  },
  {
   "cell_type": "code",
   "execution_count": 2,
   "id": "92bc2e84-cbc8-41a2-97c2-da8bf02f60da",
   "metadata": {},
   "outputs": [
    {
     "data": {
      "text/html": [
       "<div>\n",
       "<style scoped>\n",
       "    .dataframe tbody tr th:only-of-type {\n",
       "        vertical-align: middle;\n",
       "    }\n",
       "\n",
       "    .dataframe tbody tr th {\n",
       "        vertical-align: top;\n",
       "    }\n",
       "\n",
       "    .dataframe thead th {\n",
       "        text-align: right;\n",
       "    }\n",
       "</style>\n",
       "<table border=\"1\" class=\"dataframe\">\n",
       "  <thead>\n",
       "    <tr style=\"text-align: right;\">\n",
       "      <th></th>\n",
       "      <th>InvoiceNo</th>\n",
       "      <th>StockCode</th>\n",
       "      <th>Description</th>\n",
       "      <th>Quantity</th>\n",
       "      <th>InvoiceDate</th>\n",
       "      <th>UnitPrice</th>\n",
       "      <th>CustomerID</th>\n",
       "      <th>Country</th>\n",
       "    </tr>\n",
       "  </thead>\n",
       "  <tbody>\n",
       "    <tr>\n",
       "      <th>0</th>\n",
       "      <td>536365</td>\n",
       "      <td>85123A</td>\n",
       "      <td>WHITE HANGING HEART T-LIGHT HOLDER</td>\n",
       "      <td>6</td>\n",
       "      <td>01-12-2010 08:26</td>\n",
       "      <td>2.55</td>\n",
       "      <td>17850.0</td>\n",
       "      <td>United Kingdom</td>\n",
       "    </tr>\n",
       "    <tr>\n",
       "      <th>1</th>\n",
       "      <td>536365</td>\n",
       "      <td>71053</td>\n",
       "      <td>WHITE METAL LANTERN</td>\n",
       "      <td>6</td>\n",
       "      <td>01-12-2010 08:26</td>\n",
       "      <td>3.39</td>\n",
       "      <td>17850.0</td>\n",
       "      <td>United Kingdom</td>\n",
       "    </tr>\n",
       "    <tr>\n",
       "      <th>2</th>\n",
       "      <td>536365</td>\n",
       "      <td>84406B</td>\n",
       "      <td>CREAM CUPID HEARTS COAT HANGER</td>\n",
       "      <td>8</td>\n",
       "      <td>01-12-2010 08:26</td>\n",
       "      <td>2.75</td>\n",
       "      <td>17850.0</td>\n",
       "      <td>United Kingdom</td>\n",
       "    </tr>\n",
       "    <tr>\n",
       "      <th>3</th>\n",
       "      <td>536365</td>\n",
       "      <td>84029G</td>\n",
       "      <td>KNITTED UNION FLAG HOT WATER BOTTLE</td>\n",
       "      <td>6</td>\n",
       "      <td>01-12-2010 08:26</td>\n",
       "      <td>3.39</td>\n",
       "      <td>17850.0</td>\n",
       "      <td>United Kingdom</td>\n",
       "    </tr>\n",
       "    <tr>\n",
       "      <th>4</th>\n",
       "      <td>536365</td>\n",
       "      <td>84029E</td>\n",
       "      <td>RED WOOLLY HOTTIE WHITE HEART.</td>\n",
       "      <td>6</td>\n",
       "      <td>01-12-2010 08:26</td>\n",
       "      <td>3.39</td>\n",
       "      <td>17850.0</td>\n",
       "      <td>United Kingdom</td>\n",
       "    </tr>\n",
       "    <tr>\n",
       "      <th>...</th>\n",
       "      <td>...</td>\n",
       "      <td>...</td>\n",
       "      <td>...</td>\n",
       "      <td>...</td>\n",
       "      <td>...</td>\n",
       "      <td>...</td>\n",
       "      <td>...</td>\n",
       "      <td>...</td>\n",
       "    </tr>\n",
       "    <tr>\n",
       "      <th>541904</th>\n",
       "      <td>581587</td>\n",
       "      <td>22613</td>\n",
       "      <td>PACK OF 20 SPACEBOY NAPKINS</td>\n",
       "      <td>12</td>\n",
       "      <td>09-12-2011 12:50</td>\n",
       "      <td>0.85</td>\n",
       "      <td>12680.0</td>\n",
       "      <td>France</td>\n",
       "    </tr>\n",
       "    <tr>\n",
       "      <th>541905</th>\n",
       "      <td>581587</td>\n",
       "      <td>22899</td>\n",
       "      <td>CHILDREN'S APRON DOLLY GIRL</td>\n",
       "      <td>6</td>\n",
       "      <td>09-12-2011 12:50</td>\n",
       "      <td>2.10</td>\n",
       "      <td>12680.0</td>\n",
       "      <td>France</td>\n",
       "    </tr>\n",
       "    <tr>\n",
       "      <th>541906</th>\n",
       "      <td>581587</td>\n",
       "      <td>23254</td>\n",
       "      <td>CHILDRENS CUTLERY DOLLY GIRL</td>\n",
       "      <td>4</td>\n",
       "      <td>09-12-2011 12:50</td>\n",
       "      <td>4.15</td>\n",
       "      <td>12680.0</td>\n",
       "      <td>France</td>\n",
       "    </tr>\n",
       "    <tr>\n",
       "      <th>541907</th>\n",
       "      <td>581587</td>\n",
       "      <td>23255</td>\n",
       "      <td>CHILDRENS CUTLERY CIRCUS PARADE</td>\n",
       "      <td>4</td>\n",
       "      <td>09-12-2011 12:50</td>\n",
       "      <td>4.15</td>\n",
       "      <td>12680.0</td>\n",
       "      <td>France</td>\n",
       "    </tr>\n",
       "    <tr>\n",
       "      <th>541908</th>\n",
       "      <td>581587</td>\n",
       "      <td>22138</td>\n",
       "      <td>BAKING SET 9 PIECE RETROSPOT</td>\n",
       "      <td>3</td>\n",
       "      <td>09-12-2011 12:50</td>\n",
       "      <td>4.95</td>\n",
       "      <td>12680.0</td>\n",
       "      <td>France</td>\n",
       "    </tr>\n",
       "  </tbody>\n",
       "</table>\n",
       "<p>541909 rows × 8 columns</p>\n",
       "</div>"
      ],
      "text/plain": [
       "       InvoiceNo StockCode                          Description  Quantity  \\\n",
       "0         536365    85123A   WHITE HANGING HEART T-LIGHT HOLDER         6   \n",
       "1         536365     71053                  WHITE METAL LANTERN         6   \n",
       "2         536365    84406B       CREAM CUPID HEARTS COAT HANGER         8   \n",
       "3         536365    84029G  KNITTED UNION FLAG HOT WATER BOTTLE         6   \n",
       "4         536365    84029E       RED WOOLLY HOTTIE WHITE HEART.         6   \n",
       "...          ...       ...                                  ...       ...   \n",
       "541904    581587     22613          PACK OF 20 SPACEBOY NAPKINS        12   \n",
       "541905    581587     22899         CHILDREN'S APRON DOLLY GIRL          6   \n",
       "541906    581587     23254        CHILDRENS CUTLERY DOLLY GIRL          4   \n",
       "541907    581587     23255      CHILDRENS CUTLERY CIRCUS PARADE         4   \n",
       "541908    581587     22138        BAKING SET 9 PIECE RETROSPOT          3   \n",
       "\n",
       "             InvoiceDate  UnitPrice  CustomerID         Country  \n",
       "0       01-12-2010 08:26       2.55     17850.0  United Kingdom  \n",
       "1       01-12-2010 08:26       3.39     17850.0  United Kingdom  \n",
       "2       01-12-2010 08:26       2.75     17850.0  United Kingdom  \n",
       "3       01-12-2010 08:26       3.39     17850.0  United Kingdom  \n",
       "4       01-12-2010 08:26       3.39     17850.0  United Kingdom  \n",
       "...                  ...        ...         ...             ...  \n",
       "541904  09-12-2011 12:50       0.85     12680.0          France  \n",
       "541905  09-12-2011 12:50       2.10     12680.0          France  \n",
       "541906  09-12-2011 12:50       4.15     12680.0          France  \n",
       "541907  09-12-2011 12:50       4.15     12680.0          France  \n",
       "541908  09-12-2011 12:50       4.95     12680.0          France  \n",
       "\n",
       "[541909 rows x 8 columns]"
      ]
     },
     "metadata": {},
     "output_type": "display_data"
    }
   ],
   "source": [
    "display(df)"
   ]
  },
  {
   "cell_type": "markdown",
   "id": "1a4ee345-f239-4836-81c6-cd22d3b2a205",
   "metadata": {},
   "source": [
    "## 2.2 Tipo de dado em cada coluna\n",
    "\n",
    "- **InvoiceNo:** Número da fatura da compra.\n",
    "- **StockCode:** Código do item vendido.\n",
    "- **Description:** Nome do produto.\n",
    "- **Quantity:** Quantidade adquirida.\n",
    "- **InvoiceDate:** Data da compra.\n",
    "- **UnitPrice:** Preço unitário do produto.\n",
    "- **CustomerID:** Identificador do cliente.\n",
    "- **Country:** País do cliente."
   ]
  },
  {
   "cell_type": "code",
   "execution_count": 3,
   "id": "91a982f4-1c96-4c7c-be6b-e414b7fa4918",
   "metadata": {},
   "outputs": [
    {
     "name": "stdout",
     "output_type": "stream",
     "text": [
      "<class 'pandas.core.frame.DataFrame'>\n",
      "RangeIndex: 541909 entries, 0 to 541908\n",
      "Data columns (total 8 columns):\n",
      " #   Column       Non-Null Count   Dtype  \n",
      "---  ------       --------------   -----  \n",
      " 0   InvoiceNo    541909 non-null  object \n",
      " 1   StockCode    541909 non-null  object \n",
      " 2   Description  540455 non-null  object \n",
      " 3   Quantity     541909 non-null  int64  \n",
      " 4   InvoiceDate  541909 non-null  object \n",
      " 5   UnitPrice    541909 non-null  float64\n",
      " 6   CustomerID   406829 non-null  float64\n",
      " 7   Country      541909 non-null  object \n",
      "dtypes: float64(2), int64(1), object(5)\n",
      "memory usage: 33.1+ MB\n"
     ]
    }
   ],
   "source": [
    "df.info()"
   ]
  },
  {
   "cell_type": "markdown",
   "id": "ea5e1cb7-9d70-4094-b1a6-aea59892a4c3",
   "metadata": {},
   "source": [
    "- Linhas: 54.1909\n",
    "- Colunas: 8\n",
    "- Consumo de memória: 33.1 MB"
   ]
  },
  {
   "cell_type": "markdown",
   "id": "49277e8c-6cad-46ee-ab03-df8a6e2f7c79",
   "metadata": {},
   "source": [
    "## 2.3 Quantidade de valores nulos em cada coluna"
   ]
  },
  {
   "cell_type": "code",
   "execution_count": 4,
   "id": "9aeac35c-8251-4238-8068-e888a247a97d",
   "metadata": {},
   "outputs": [
    {
     "data": {
      "text/plain": [
       "InvoiceNo           0\n",
       "StockCode           0\n",
       "Description      1454\n",
       "Quantity            0\n",
       "InvoiceDate         0\n",
       "UnitPrice           0\n",
       "CustomerID     135080\n",
       "Country             0\n",
       "dtype: int64"
      ]
     },
     "execution_count": 4,
     "metadata": {},
     "output_type": "execute_result"
    }
   ],
   "source": [
    "df.isnull().sum()"
   ]
  },
  {
   "cell_type": "markdown",
   "id": "a7906a05-178c-494e-953a-c52351e17d0a",
   "metadata": {},
   "source": [
    "## 2.4 Quantidade de valores não-nulos em cada coluna"
   ]
  },
  {
   "cell_type": "code",
   "execution_count": 5,
   "id": "4568a208-5990-49cd-9120-6d7da6ea43f5",
   "metadata": {},
   "outputs": [
    {
     "data": {
      "text/plain": [
       "InvoiceNo      541909\n",
       "StockCode      541909\n",
       "Description    540455\n",
       "Quantity       541909\n",
       "InvoiceDate    541909\n",
       "UnitPrice      541909\n",
       "CustomerID     406829\n",
       "Country        541909\n",
       "dtype: int64"
      ]
     },
     "execution_count": 5,
     "metadata": {},
     "output_type": "execute_result"
    }
   ],
   "source": [
    "df.notnull().sum()"
   ]
  },
  {
   "cell_type": "markdown",
   "id": "7bf296b7-d571-4815-a2b9-70a4f5722126",
   "metadata": {},
   "source": [
    "## 2.5 Nome de cada coluna\n",
    "- Para verificar inconsistências como espaços no começo e no final dos nomes"
   ]
  },
  {
   "cell_type": "code",
   "execution_count": 6,
   "id": "1f8ab8de-74c4-4365-ac38-b4bb9c1896e1",
   "metadata": {},
   "outputs": [
    {
     "data": {
      "text/plain": [
       "Index(['InvoiceNo', 'StockCode', 'Description', 'Quantity', 'InvoiceDate',\n",
       "       'UnitPrice', 'CustomerID', 'Country'],\n",
       "      dtype='object')"
      ]
     },
     "execution_count": 6,
     "metadata": {},
     "output_type": "execute_result"
    }
   ],
   "source": [
    "df.columns"
   ]
  },
  {
   "cell_type": "markdown",
   "id": "6a9b29ed-af4d-4a99-b77c-654532e9ef5b",
   "metadata": {},
   "source": [
    "## 2.6 Quantidade de linhas duplicadas no dataframe"
   ]
  },
  {
   "cell_type": "code",
   "execution_count": 7,
   "id": "4462c657-2554-481d-b6ee-5a211bd6bd0b",
   "metadata": {},
   "outputs": [
    {
     "name": "stdout",
     "output_type": "stream",
     "text": [
      "5268\n"
     ]
    }
   ],
   "source": [
    "print(df.duplicated().sum())"
   ]
  },
  {
   "cell_type": "markdown",
   "id": "5b91240d-67ad-468f-9d56-47668dd4f050",
   "metadata": {},
   "source": [
    "## 2.7 Visualização das linhas duplicadas\n",
    "- Como o InvoiceNo e o CostumeID são o mesmo, mas as outras colunas têm registros diferenes. Significa que o mesmo cliente comprou produtos diferentes, por tanto, não é necessário que essas linhas sejam removidas na fase de pré-processamento."
   ]
  },
  {
   "cell_type": "code",
   "execution_count": 8,
   "id": "3bcde185-883a-4b03-9f09-88f962161fc2",
   "metadata": {},
   "outputs": [
    {
     "data": {
      "text/html": [
       "<div>\n",
       "<style scoped>\n",
       "    .dataframe tbody tr th:only-of-type {\n",
       "        vertical-align: middle;\n",
       "    }\n",
       "\n",
       "    .dataframe tbody tr th {\n",
       "        vertical-align: top;\n",
       "    }\n",
       "\n",
       "    .dataframe thead th {\n",
       "        text-align: right;\n",
       "    }\n",
       "</style>\n",
       "<table border=\"1\" class=\"dataframe\">\n",
       "  <thead>\n",
       "    <tr style=\"text-align: right;\">\n",
       "      <th></th>\n",
       "      <th>InvoiceNo</th>\n",
       "      <th>StockCode</th>\n",
       "      <th>Description</th>\n",
       "      <th>Quantity</th>\n",
       "      <th>InvoiceDate</th>\n",
       "      <th>UnitPrice</th>\n",
       "      <th>CustomerID</th>\n",
       "      <th>Country</th>\n",
       "    </tr>\n",
       "  </thead>\n",
       "  <tbody>\n",
       "    <tr>\n",
       "      <th>517</th>\n",
       "      <td>536409</td>\n",
       "      <td>21866</td>\n",
       "      <td>UNION JACK FLAG LUGGAGE TAG</td>\n",
       "      <td>1</td>\n",
       "      <td>01-12-2010 11:45</td>\n",
       "      <td>1.25</td>\n",
       "      <td>17908.0</td>\n",
       "      <td>United Kingdom</td>\n",
       "    </tr>\n",
       "    <tr>\n",
       "      <th>527</th>\n",
       "      <td>536409</td>\n",
       "      <td>22866</td>\n",
       "      <td>HAND WARMER SCOTTY DOG DESIGN</td>\n",
       "      <td>1</td>\n",
       "      <td>01-12-2010 11:45</td>\n",
       "      <td>2.10</td>\n",
       "      <td>17908.0</td>\n",
       "      <td>United Kingdom</td>\n",
       "    </tr>\n",
       "    <tr>\n",
       "      <th>537</th>\n",
       "      <td>536409</td>\n",
       "      <td>22900</td>\n",
       "      <td>SET 2 TEA TOWELS I LOVE LONDON</td>\n",
       "      <td>1</td>\n",
       "      <td>01-12-2010 11:45</td>\n",
       "      <td>2.95</td>\n",
       "      <td>17908.0</td>\n",
       "      <td>United Kingdom</td>\n",
       "    </tr>\n",
       "    <tr>\n",
       "      <th>539</th>\n",
       "      <td>536409</td>\n",
       "      <td>22111</td>\n",
       "      <td>SCOTTIE DOG HOT WATER BOTTLE</td>\n",
       "      <td>1</td>\n",
       "      <td>01-12-2010 11:45</td>\n",
       "      <td>4.95</td>\n",
       "      <td>17908.0</td>\n",
       "      <td>United Kingdom</td>\n",
       "    </tr>\n",
       "    <tr>\n",
       "      <th>555</th>\n",
       "      <td>536412</td>\n",
       "      <td>22327</td>\n",
       "      <td>ROUND SNACK BOXES SET OF 4 SKULLS</td>\n",
       "      <td>1</td>\n",
       "      <td>01-12-2010 11:49</td>\n",
       "      <td>2.95</td>\n",
       "      <td>17920.0</td>\n",
       "      <td>United Kingdom</td>\n",
       "    </tr>\n",
       "    <tr>\n",
       "      <th>...</th>\n",
       "      <td>...</td>\n",
       "      <td>...</td>\n",
       "      <td>...</td>\n",
       "      <td>...</td>\n",
       "      <td>...</td>\n",
       "      <td>...</td>\n",
       "      <td>...</td>\n",
       "      <td>...</td>\n",
       "    </tr>\n",
       "    <tr>\n",
       "      <th>541675</th>\n",
       "      <td>581538</td>\n",
       "      <td>22068</td>\n",
       "      <td>BLACK PIRATE TREASURE CHEST</td>\n",
       "      <td>1</td>\n",
       "      <td>09-12-2011 11:34</td>\n",
       "      <td>0.39</td>\n",
       "      <td>14446.0</td>\n",
       "      <td>United Kingdom</td>\n",
       "    </tr>\n",
       "    <tr>\n",
       "      <th>541689</th>\n",
       "      <td>581538</td>\n",
       "      <td>23318</td>\n",
       "      <td>BOX OF 6 MINI VINTAGE CRACKERS</td>\n",
       "      <td>1</td>\n",
       "      <td>09-12-2011 11:34</td>\n",
       "      <td>2.49</td>\n",
       "      <td>14446.0</td>\n",
       "      <td>United Kingdom</td>\n",
       "    </tr>\n",
       "    <tr>\n",
       "      <th>541692</th>\n",
       "      <td>581538</td>\n",
       "      <td>22992</td>\n",
       "      <td>REVOLVER WOODEN RULER</td>\n",
       "      <td>1</td>\n",
       "      <td>09-12-2011 11:34</td>\n",
       "      <td>1.95</td>\n",
       "      <td>14446.0</td>\n",
       "      <td>United Kingdom</td>\n",
       "    </tr>\n",
       "    <tr>\n",
       "      <th>541699</th>\n",
       "      <td>581538</td>\n",
       "      <td>22694</td>\n",
       "      <td>WICKER STAR</td>\n",
       "      <td>1</td>\n",
       "      <td>09-12-2011 11:34</td>\n",
       "      <td>2.10</td>\n",
       "      <td>14446.0</td>\n",
       "      <td>United Kingdom</td>\n",
       "    </tr>\n",
       "    <tr>\n",
       "      <th>541701</th>\n",
       "      <td>581538</td>\n",
       "      <td>23343</td>\n",
       "      <td>JUMBO BAG VINTAGE CHRISTMAS</td>\n",
       "      <td>1</td>\n",
       "      <td>09-12-2011 11:34</td>\n",
       "      <td>2.08</td>\n",
       "      <td>14446.0</td>\n",
       "      <td>United Kingdom</td>\n",
       "    </tr>\n",
       "  </tbody>\n",
       "</table>\n",
       "<p>5268 rows × 8 columns</p>\n",
       "</div>"
      ],
      "text/plain": [
       "       InvoiceNo StockCode                        Description  Quantity  \\\n",
       "517       536409     21866        UNION JACK FLAG LUGGAGE TAG         1   \n",
       "527       536409     22866      HAND WARMER SCOTTY DOG DESIGN         1   \n",
       "537       536409     22900    SET 2 TEA TOWELS I LOVE LONDON          1   \n",
       "539       536409     22111       SCOTTIE DOG HOT WATER BOTTLE         1   \n",
       "555       536412     22327  ROUND SNACK BOXES SET OF 4 SKULLS         1   \n",
       "...          ...       ...                                ...       ...   \n",
       "541675    581538     22068        BLACK PIRATE TREASURE CHEST         1   \n",
       "541689    581538     23318     BOX OF 6 MINI VINTAGE CRACKERS         1   \n",
       "541692    581538     22992             REVOLVER WOODEN RULER          1   \n",
       "541699    581538     22694                       WICKER STAR          1   \n",
       "541701    581538     23343       JUMBO BAG VINTAGE CHRISTMAS          1   \n",
       "\n",
       "             InvoiceDate  UnitPrice  CustomerID         Country  \n",
       "517     01-12-2010 11:45       1.25     17908.0  United Kingdom  \n",
       "527     01-12-2010 11:45       2.10     17908.0  United Kingdom  \n",
       "537     01-12-2010 11:45       2.95     17908.0  United Kingdom  \n",
       "539     01-12-2010 11:45       4.95     17908.0  United Kingdom  \n",
       "555     01-12-2010 11:49       2.95     17920.0  United Kingdom  \n",
       "...                  ...        ...         ...             ...  \n",
       "541675  09-12-2011 11:34       0.39     14446.0  United Kingdom  \n",
       "541689  09-12-2011 11:34       2.49     14446.0  United Kingdom  \n",
       "541692  09-12-2011 11:34       1.95     14446.0  United Kingdom  \n",
       "541699  09-12-2011 11:34       2.10     14446.0  United Kingdom  \n",
       "541701  09-12-2011 11:34       2.08     14446.0  United Kingdom  \n",
       "\n",
       "[5268 rows x 8 columns]"
      ]
     },
     "execution_count": 8,
     "metadata": {},
     "output_type": "execute_result"
    }
   ],
   "source": [
    "df[df.duplicated()]"
   ]
  },
  {
   "cell_type": "markdown",
   "id": "c87004a4-10a8-4c15-89ca-adb959a3adfa",
   "metadata": {},
   "source": [
    "## 2.8 Quantidade de valores únicos em cada coluna"
   ]
  },
  {
   "cell_type": "code",
   "execution_count": 9,
   "id": "4ff68a47-a9f9-4156-a584-20b91dacb30d",
   "metadata": {},
   "outputs": [
    {
     "data": {
      "text/plain": [
       "InvoiceNo      25900\n",
       "StockCode       4070\n",
       "Description     4223\n",
       "Quantity         722\n",
       "InvoiceDate    23260\n",
       "UnitPrice       1630\n",
       "CustomerID      4372\n",
       "Country           38\n",
       "dtype: int64"
      ]
     },
     "execution_count": 9,
     "metadata": {},
     "output_type": "execute_result"
    }
   ],
   "source": [
    "df.nunique()"
   ]
  },
  {
   "cell_type": "markdown",
   "id": "2d511107-4e50-4bb0-99ef-8c7c1be82fc1",
   "metadata": {},
   "source": [
    "## 2.9 Análise Descritiva de colunas numéricas\n",
    "\n",
    "- count: Quantidade de valores não nulos.\n",
    "- mean: Média dos valores.\n",
    "- std: Desvio padrão.\n",
    "- min: Valor mínimo.\n",
    "- 25% / 50% / 75%: Quartis.\n",
    "- max: Valor máximo.\n",
    "---\n",
    "- As colunas Quantity e UnitPrice possuem valores negativos\n",
    "- Isso pode indicar devolução de produtos"
   ]
  },
  {
   "cell_type": "code",
   "execution_count": 10,
   "id": "bdbb5f31-cbc3-414a-b077-361066324495",
   "metadata": {},
   "outputs": [
    {
     "data": {
      "text/html": [
       "<div>\n",
       "<style scoped>\n",
       "    .dataframe tbody tr th:only-of-type {\n",
       "        vertical-align: middle;\n",
       "    }\n",
       "\n",
       "    .dataframe tbody tr th {\n",
       "        vertical-align: top;\n",
       "    }\n",
       "\n",
       "    .dataframe thead th {\n",
       "        text-align: right;\n",
       "    }\n",
       "</style>\n",
       "<table border=\"1\" class=\"dataframe\">\n",
       "  <thead>\n",
       "    <tr style=\"text-align: right;\">\n",
       "      <th></th>\n",
       "      <th>Quantity</th>\n",
       "      <th>UnitPrice</th>\n",
       "      <th>CustomerID</th>\n",
       "    </tr>\n",
       "  </thead>\n",
       "  <tbody>\n",
       "    <tr>\n",
       "      <th>count</th>\n",
       "      <td>541909.000000</td>\n",
       "      <td>541909.000000</td>\n",
       "      <td>406829.000000</td>\n",
       "    </tr>\n",
       "    <tr>\n",
       "      <th>mean</th>\n",
       "      <td>9.552250</td>\n",
       "      <td>4.611114</td>\n",
       "      <td>15287.690570</td>\n",
       "    </tr>\n",
       "    <tr>\n",
       "      <th>std</th>\n",
       "      <td>218.081158</td>\n",
       "      <td>96.759853</td>\n",
       "      <td>1713.600303</td>\n",
       "    </tr>\n",
       "    <tr>\n",
       "      <th>min</th>\n",
       "      <td>-80995.000000</td>\n",
       "      <td>-11062.060000</td>\n",
       "      <td>12346.000000</td>\n",
       "    </tr>\n",
       "    <tr>\n",
       "      <th>25%</th>\n",
       "      <td>1.000000</td>\n",
       "      <td>1.250000</td>\n",
       "      <td>13953.000000</td>\n",
       "    </tr>\n",
       "    <tr>\n",
       "      <th>50%</th>\n",
       "      <td>3.000000</td>\n",
       "      <td>2.080000</td>\n",
       "      <td>15152.000000</td>\n",
       "    </tr>\n",
       "    <tr>\n",
       "      <th>75%</th>\n",
       "      <td>10.000000</td>\n",
       "      <td>4.130000</td>\n",
       "      <td>16791.000000</td>\n",
       "    </tr>\n",
       "    <tr>\n",
       "      <th>max</th>\n",
       "      <td>80995.000000</td>\n",
       "      <td>38970.000000</td>\n",
       "      <td>18287.000000</td>\n",
       "    </tr>\n",
       "  </tbody>\n",
       "</table>\n",
       "</div>"
      ],
      "text/plain": [
       "            Quantity      UnitPrice     CustomerID\n",
       "count  541909.000000  541909.000000  406829.000000\n",
       "mean        9.552250       4.611114   15287.690570\n",
       "std       218.081158      96.759853    1713.600303\n",
       "min    -80995.000000  -11062.060000   12346.000000\n",
       "25%         1.000000       1.250000   13953.000000\n",
       "50%         3.000000       2.080000   15152.000000\n",
       "75%        10.000000       4.130000   16791.000000\n",
       "max     80995.000000   38970.000000   18287.000000"
      ]
     },
     "execution_count": 10,
     "metadata": {},
     "output_type": "execute_result"
    }
   ],
   "source": [
    "df.describe()"
   ]
  },
  {
   "cell_type": "markdown",
   "id": "1c8a02c3-52ed-4a30-83a4-67d2ee55c431",
   "metadata": {},
   "source": [
    "## 2.10 Analise Descritiva de colunas object\n",
    "\n",
    "- count: Quantidade de valores não-nulos.\n",
    "- unique: Quantidade de valores únicos.\n",
    "- top: Moda.\n",
    "- freq: Quantidade de vezes que a moda aparece."
   ]
  },
  {
   "cell_type": "code",
   "execution_count": 11,
   "id": "282d2e87-ab9b-43e5-a3ec-c5eb71d43ca5",
   "metadata": {},
   "outputs": [
    {
     "data": {
      "text/html": [
       "<div>\n",
       "<style scoped>\n",
       "    .dataframe tbody tr th:only-of-type {\n",
       "        vertical-align: middle;\n",
       "    }\n",
       "\n",
       "    .dataframe tbody tr th {\n",
       "        vertical-align: top;\n",
       "    }\n",
       "\n",
       "    .dataframe thead th {\n",
       "        text-align: right;\n",
       "    }\n",
       "</style>\n",
       "<table border=\"1\" class=\"dataframe\">\n",
       "  <thead>\n",
       "    <tr style=\"text-align: right;\">\n",
       "      <th></th>\n",
       "      <th>InvoiceNo</th>\n",
       "      <th>StockCode</th>\n",
       "      <th>Description</th>\n",
       "      <th>InvoiceDate</th>\n",
       "      <th>Country</th>\n",
       "    </tr>\n",
       "  </thead>\n",
       "  <tbody>\n",
       "    <tr>\n",
       "      <th>count</th>\n",
       "      <td>541909</td>\n",
       "      <td>541909</td>\n",
       "      <td>540455</td>\n",
       "      <td>541909</td>\n",
       "      <td>541909</td>\n",
       "    </tr>\n",
       "    <tr>\n",
       "      <th>unique</th>\n",
       "      <td>25900</td>\n",
       "      <td>4070</td>\n",
       "      <td>4223</td>\n",
       "      <td>23260</td>\n",
       "      <td>38</td>\n",
       "    </tr>\n",
       "    <tr>\n",
       "      <th>top</th>\n",
       "      <td>573585</td>\n",
       "      <td>85123A</td>\n",
       "      <td>WHITE HANGING HEART T-LIGHT HOLDER</td>\n",
       "      <td>31-10-2011 14:41</td>\n",
       "      <td>United Kingdom</td>\n",
       "    </tr>\n",
       "    <tr>\n",
       "      <th>freq</th>\n",
       "      <td>1114</td>\n",
       "      <td>2313</td>\n",
       "      <td>2369</td>\n",
       "      <td>1114</td>\n",
       "      <td>495478</td>\n",
       "    </tr>\n",
       "  </tbody>\n",
       "</table>\n",
       "</div>"
      ],
      "text/plain": [
       "       InvoiceNo StockCode                         Description  \\\n",
       "count     541909    541909                              540455   \n",
       "unique     25900      4070                                4223   \n",
       "top       573585    85123A  WHITE HANGING HEART T-LIGHT HOLDER   \n",
       "freq        1114      2313                                2369   \n",
       "\n",
       "             InvoiceDate         Country  \n",
       "count             541909          541909  \n",
       "unique             23260              38  \n",
       "top     31-10-2011 14:41  United Kingdom  \n",
       "freq                1114          495478  "
      ]
     },
     "execution_count": 11,
     "metadata": {},
     "output_type": "execute_result"
    }
   ],
   "source": [
    "df.describe(include=\"object\")"
   ]
  },
  {
   "cell_type": "markdown",
   "id": "31599505-3a88-4cd6-9fad-89c52542e401",
   "metadata": {},
   "source": [
    "## 2.11 Moda de cada coluna"
   ]
  },
  {
   "cell_type": "code",
   "execution_count": 12,
   "id": "fdc6fd41-f187-4887-b5ec-a297e40422b9",
   "metadata": {},
   "outputs": [
    {
     "data": {
      "text/html": [
       "<div>\n",
       "<style scoped>\n",
       "    .dataframe tbody tr th:only-of-type {\n",
       "        vertical-align: middle;\n",
       "    }\n",
       "\n",
       "    .dataframe tbody tr th {\n",
       "        vertical-align: top;\n",
       "    }\n",
       "\n",
       "    .dataframe thead th {\n",
       "        text-align: right;\n",
       "    }\n",
       "</style>\n",
       "<table border=\"1\" class=\"dataframe\">\n",
       "  <thead>\n",
       "    <tr style=\"text-align: right;\">\n",
       "      <th></th>\n",
       "      <th>InvoiceNo</th>\n",
       "      <th>StockCode</th>\n",
       "      <th>Description</th>\n",
       "      <th>Quantity</th>\n",
       "      <th>InvoiceDate</th>\n",
       "      <th>UnitPrice</th>\n",
       "      <th>CustomerID</th>\n",
       "      <th>Country</th>\n",
       "    </tr>\n",
       "  </thead>\n",
       "  <tbody>\n",
       "    <tr>\n",
       "      <th>0</th>\n",
       "      <td>573585</td>\n",
       "      <td>85123A</td>\n",
       "      <td>WHITE HANGING HEART T-LIGHT HOLDER</td>\n",
       "      <td>1</td>\n",
       "      <td>31-10-2011 14:41</td>\n",
       "      <td>1.25</td>\n",
       "      <td>17841.0</td>\n",
       "      <td>United Kingdom</td>\n",
       "    </tr>\n",
       "  </tbody>\n",
       "</table>\n",
       "</div>"
      ],
      "text/plain": [
       "  InvoiceNo StockCode                         Description  Quantity  \\\n",
       "0    573585    85123A  WHITE HANGING HEART T-LIGHT HOLDER         1   \n",
       "\n",
       "        InvoiceDate  UnitPrice  CustomerID         Country  \n",
       "0  31-10-2011 14:41       1.25     17841.0  United Kingdom  "
      ]
     },
     "execution_count": 12,
     "metadata": {},
     "output_type": "execute_result"
    }
   ],
   "source": [
    "df.mode()"
   ]
  },
  {
   "cell_type": "markdown",
   "id": "575cddb2-e8bf-4e86-8978-f16a0f8dede5",
   "metadata": {},
   "source": [
    "## 2.12 Analisando coluna StockCode\n",
    "\n",
    "A análise da coluna StockCode revelou padrões distintos em quatro códigos que são formados por um único caractere.  \n",
    "Cada um deles têm um significado específico:\n",
    "\n",
    "- **D** → Indica produtos com **desconto**, possivelmente relacionados a promoções ou itens descontinuados.  \n",
    "- **M** → Associado a **manuais**, podendo representar produtos internos ou materiais de instrução.  \n",
    "- **S** → Refere-se a **amostras** (\"samples\"), indicando itens distribuídos gratuitamente para testes ou demonstrações.  \n",
    "- **B** → Relacionado a **ajustes de dívidas incobráveis** (\"Adjust bad debt\"), mostrando correções financeiras de valores que não podem ser recuperados.  \n",
    "\n",
    "Esses códigos representam transações excepcionais.\n"
   ]
  },
  {
   "cell_type": "code",
   "execution_count": 13,
   "id": "d7c6a89f-987c-4e7e-9ca3-787eec4dea10",
   "metadata": {},
   "outputs": [
    {
     "data": {
      "text/plain": [
       "array(['D', 'M', 'S', 'm', 'B'], dtype=object)"
      ]
     },
     "execution_count": 13,
     "metadata": {},
     "output_type": "execute_result"
    }
   ],
   "source": [
    "df[df[\"StockCode\"].astype(str).str.len() == 1][\"StockCode\"].unique()"
   ]
  },
  {
   "cell_type": "code",
   "execution_count": 14,
   "id": "641ed2d0-bdc3-4ac6-aa9e-0f5dfb853978",
   "metadata": {},
   "outputs": [
    {
     "data": {
      "text/plain": [
       "array(['Discount', 'Manual', 'SAMPLES', 'Adjust bad debt'], dtype=object)"
      ]
     },
     "execution_count": 14,
     "metadata": {},
     "output_type": "execute_result"
    }
   ],
   "source": [
    "df[df[\"StockCode\"].astype(str).str.len() == 1][\"Description\"].unique()"
   ]
  },
  {
   "cell_type": "code",
   "execution_count": 15,
   "id": "21d13173-2915-48f4-b28a-60a135fb1dfd",
   "metadata": {},
   "outputs": [
    {
     "data": {
      "text/plain": [
       "4"
      ]
     },
     "execution_count": 15,
     "metadata": {},
     "output_type": "execute_result"
    }
   ],
   "source": [
    "df[df[\"StockCode\"].astype(str).str.len() == 1][\"Description\"].nunique()"
   ]
  },
  {
   "cell_type": "markdown",
   "id": "19993f13-a5d4-495f-b250-a8f96cd5deb9",
   "metadata": {},
   "source": [
    "## 2.13 Visualizando e analisando colunas Quantity e UnitPrice\n",
    "- Essas colunas possuem valores negativos e zeros, é necessário entender o contexto delas\n",
    "- O prefixo das colunas podem indicar a natureza da transação:\n",
    "    - InvoiceNo → Devoluções têm um prefixo \"C\", que significa **Cancelamento** ou **Crédito** para usar em compras futuras na loja.\n",
    "    - CustomerID → Se o mesmo cliente aparece repetidamente com valores negativos, pode ser um sinal de devoluções.\n",
    "    - InvoiceDate → Muitos valores negativos na mesma data pode indicar uma onda de devoluções após períodos de muitas vendas como black friday e natal."
   ]
  },
  {
   "cell_type": "markdown",
   "id": "e7de458b-de97-4870-885e-3195ed52f11d",
   "metadata": {},
   "source": [
    "### Colunas onde os valores são menores que zero\n",
    "- Padrões percebidos\n",
    "    - Quando `Quantity < 0`, o prefico começa de InvoiceNo com \"C\".\n",
    "    - Quando `UnitPrice <= 0`, o prefixo da de InvoiceNo também começa com \"C\".\n",
    "- Esses clientes:\n",
    "    - Fizeram a devolução de algum produto e ficaram com saldo para compras futuras.\n",
    "    - Compraram itens em promoção, por exemplo, compre dois e leve um de graça.\n",
    "- O valor negativo de UnitPrice significa o saldo que o cliente tem na loja.\n",
    "- O valor negativo em Quantity significa itens com descontos, defeituosos, manuais de instrução, amostras ou correções financeiras"
   ]
  },
  {
   "cell_type": "code",
   "execution_count": 16,
   "id": "a22aea36-439b-4e46-a21e-b9f86ac43f65",
   "metadata": {},
   "outputs": [
    {
     "data": {
      "text/html": [
       "<div>\n",
       "<style scoped>\n",
       "    .dataframe tbody tr th:only-of-type {\n",
       "        vertical-align: middle;\n",
       "    }\n",
       "\n",
       "    .dataframe tbody tr th {\n",
       "        vertical-align: top;\n",
       "    }\n",
       "\n",
       "    .dataframe thead th {\n",
       "        text-align: right;\n",
       "    }\n",
       "</style>\n",
       "<table border=\"1\" class=\"dataframe\">\n",
       "  <thead>\n",
       "    <tr style=\"text-align: right;\">\n",
       "      <th></th>\n",
       "      <th>InvoiceNo</th>\n",
       "      <th>StockCode</th>\n",
       "      <th>Description</th>\n",
       "      <th>Quantity</th>\n",
       "      <th>InvoiceDate</th>\n",
       "      <th>UnitPrice</th>\n",
       "      <th>CustomerID</th>\n",
       "      <th>Country</th>\n",
       "    </tr>\n",
       "  </thead>\n",
       "  <tbody>\n",
       "    <tr>\n",
       "      <th>141</th>\n",
       "      <td>C536379</td>\n",
       "      <td>D</td>\n",
       "      <td>Discount</td>\n",
       "      <td>-1</td>\n",
       "      <td>01-12-2010 09:41</td>\n",
       "      <td>27.50</td>\n",
       "      <td>14527.0</td>\n",
       "      <td>United Kingdom</td>\n",
       "    </tr>\n",
       "    <tr>\n",
       "      <th>154</th>\n",
       "      <td>C536383</td>\n",
       "      <td>35004C</td>\n",
       "      <td>SET OF 3 COLOURED  FLYING DUCKS</td>\n",
       "      <td>-1</td>\n",
       "      <td>01-12-2010 09:49</td>\n",
       "      <td>4.65</td>\n",
       "      <td>15311.0</td>\n",
       "      <td>United Kingdom</td>\n",
       "    </tr>\n",
       "    <tr>\n",
       "      <th>235</th>\n",
       "      <td>C536391</td>\n",
       "      <td>22556</td>\n",
       "      <td>PLASTERS IN TIN CIRCUS PARADE</td>\n",
       "      <td>-12</td>\n",
       "      <td>01-12-2010 10:24</td>\n",
       "      <td>1.65</td>\n",
       "      <td>17548.0</td>\n",
       "      <td>United Kingdom</td>\n",
       "    </tr>\n",
       "    <tr>\n",
       "      <th>236</th>\n",
       "      <td>C536391</td>\n",
       "      <td>21984</td>\n",
       "      <td>PACK OF 12 PINK PAISLEY TISSUES</td>\n",
       "      <td>-24</td>\n",
       "      <td>01-12-2010 10:24</td>\n",
       "      <td>0.29</td>\n",
       "      <td>17548.0</td>\n",
       "      <td>United Kingdom</td>\n",
       "    </tr>\n",
       "    <tr>\n",
       "      <th>237</th>\n",
       "      <td>C536391</td>\n",
       "      <td>21983</td>\n",
       "      <td>PACK OF 12 BLUE PAISLEY TISSUES</td>\n",
       "      <td>-24</td>\n",
       "      <td>01-12-2010 10:24</td>\n",
       "      <td>0.29</td>\n",
       "      <td>17548.0</td>\n",
       "      <td>United Kingdom</td>\n",
       "    </tr>\n",
       "    <tr>\n",
       "      <th>...</th>\n",
       "      <td>...</td>\n",
       "      <td>...</td>\n",
       "      <td>...</td>\n",
       "      <td>...</td>\n",
       "      <td>...</td>\n",
       "      <td>...</td>\n",
       "      <td>...</td>\n",
       "      <td>...</td>\n",
       "    </tr>\n",
       "    <tr>\n",
       "      <th>540449</th>\n",
       "      <td>C581490</td>\n",
       "      <td>23144</td>\n",
       "      <td>ZINC T-LIGHT HOLDER STARS SMALL</td>\n",
       "      <td>-11</td>\n",
       "      <td>09-12-2011 09:57</td>\n",
       "      <td>0.83</td>\n",
       "      <td>14397.0</td>\n",
       "      <td>United Kingdom</td>\n",
       "    </tr>\n",
       "    <tr>\n",
       "      <th>541541</th>\n",
       "      <td>C581499</td>\n",
       "      <td>M</td>\n",
       "      <td>Manual</td>\n",
       "      <td>-1</td>\n",
       "      <td>09-12-2011 10:28</td>\n",
       "      <td>224.69</td>\n",
       "      <td>15498.0</td>\n",
       "      <td>United Kingdom</td>\n",
       "    </tr>\n",
       "    <tr>\n",
       "      <th>541715</th>\n",
       "      <td>C581568</td>\n",
       "      <td>21258</td>\n",
       "      <td>VICTORIAN SEWING BOX LARGE</td>\n",
       "      <td>-5</td>\n",
       "      <td>09-12-2011 11:57</td>\n",
       "      <td>10.95</td>\n",
       "      <td>15311.0</td>\n",
       "      <td>United Kingdom</td>\n",
       "    </tr>\n",
       "    <tr>\n",
       "      <th>541716</th>\n",
       "      <td>C581569</td>\n",
       "      <td>84978</td>\n",
       "      <td>HANGING HEART JAR T-LIGHT HOLDER</td>\n",
       "      <td>-1</td>\n",
       "      <td>09-12-2011 11:58</td>\n",
       "      <td>1.25</td>\n",
       "      <td>17315.0</td>\n",
       "      <td>United Kingdom</td>\n",
       "    </tr>\n",
       "    <tr>\n",
       "      <th>541717</th>\n",
       "      <td>C581569</td>\n",
       "      <td>20979</td>\n",
       "      <td>36 PENCILS TUBE RED RETROSPOT</td>\n",
       "      <td>-5</td>\n",
       "      <td>09-12-2011 11:58</td>\n",
       "      <td>1.25</td>\n",
       "      <td>17315.0</td>\n",
       "      <td>United Kingdom</td>\n",
       "    </tr>\n",
       "  </tbody>\n",
       "</table>\n",
       "<p>11805 rows × 8 columns</p>\n",
       "</div>"
      ],
      "text/plain": [
       "       InvoiceNo StockCode                       Description  Quantity  \\\n",
       "141      C536379         D                          Discount        -1   \n",
       "154      C536383    35004C   SET OF 3 COLOURED  FLYING DUCKS        -1   \n",
       "235      C536391     22556    PLASTERS IN TIN CIRCUS PARADE        -12   \n",
       "236      C536391     21984  PACK OF 12 PINK PAISLEY TISSUES        -24   \n",
       "237      C536391     21983  PACK OF 12 BLUE PAISLEY TISSUES        -24   \n",
       "...          ...       ...                               ...       ...   \n",
       "540449   C581490     23144   ZINC T-LIGHT HOLDER STARS SMALL       -11   \n",
       "541541   C581499         M                            Manual        -1   \n",
       "541715   C581568     21258        VICTORIAN SEWING BOX LARGE        -5   \n",
       "541716   C581569     84978  HANGING HEART JAR T-LIGHT HOLDER        -1   \n",
       "541717   C581569     20979     36 PENCILS TUBE RED RETROSPOT        -5   \n",
       "\n",
       "             InvoiceDate  UnitPrice  CustomerID         Country  \n",
       "141     01-12-2010 09:41      27.50     14527.0  United Kingdom  \n",
       "154     01-12-2010 09:49       4.65     15311.0  United Kingdom  \n",
       "235     01-12-2010 10:24       1.65     17548.0  United Kingdom  \n",
       "236     01-12-2010 10:24       0.29     17548.0  United Kingdom  \n",
       "237     01-12-2010 10:24       0.29     17548.0  United Kingdom  \n",
       "...                  ...        ...         ...             ...  \n",
       "540449  09-12-2011 09:57       0.83     14397.0  United Kingdom  \n",
       "541541  09-12-2011 10:28     224.69     15498.0  United Kingdom  \n",
       "541715  09-12-2011 11:57      10.95     15311.0  United Kingdom  \n",
       "541716  09-12-2011 11:58       1.25     17315.0  United Kingdom  \n",
       "541717  09-12-2011 11:58       1.25     17315.0  United Kingdom  \n",
       "\n",
       "[11805 rows x 8 columns]"
      ]
     },
     "execution_count": 16,
     "metadata": {},
     "output_type": "execute_result"
    }
   ],
   "source": [
    "df[(df[\"Quantity\"] < 0) | (df[\"UnitPrice\"] <= 0)]"
   ]
  },
  {
   "cell_type": "markdown",
   "id": "429f38be-bb77-420b-a161-4d0473579e41",
   "metadata": {},
   "source": [
    "### Descrições das colunas onde os valores de UnitPrice é zero\n",
    "- Analisando as descrições, percebe-se:\n",
    "    - Produto danificado\n",
    "    - Produto descartado\n",
    "    - Produto molhado\n",
    "    - Produto perdido\n",
    "    - Erro de venda\n",
    "    - Embalagem molhada\n",
    "- Esses produtos não puderam ser vendidos por algum defeito ou erro de estoque e a loja os registrou com o preço zero como parte do controle interno.\n",
    "- Esses registros não impactam a análise de vendas e podem ser removidos do dataframe\n",
    "- Deixei a exibição apenas da quantidade de descrições para não poluir o notebook, mas basta tirar o comentário para ler as descrições"
   ]
  },
  {
   "cell_type": "code",
   "execution_count": 17,
   "id": "18fcc657-9ea3-4f22-b75f-8346d1fded62",
   "metadata": {},
   "outputs": [
    {
     "data": {
      "text/plain": [
       "376"
      ]
     },
     "execution_count": 17,
     "metadata": {},
     "output_type": "execute_result"
    }
   ],
   "source": [
    "df[(df[\"UnitPrice\"] == 0)][\"Description\"].nunique()\n",
    "#df[(df[\"UnitPrice\"] == 0)][\"Description\"].unique()"
   ]
  },
  {
   "cell_type": "markdown",
   "id": "c7fab2d5-ff79-42de-a073-cb9ef21d1484",
   "metadata": {},
   "source": [
    "### Descrições das colunas onde os valores de UnitPrice é menor que zero\n",
    "O fato de \"Adjust bad debt\" ser a única descrição quando UnitPrice é menor que zero indica que esses registros representam ajustes de dívida incobrável. Isso pode significar que a loja está lidando com transações onde o pagamento não foi recebido ou onde há necessidade de ajustar o saldo contábil devido a uma perda financeira.\n",
    "\n",
    "Esse ajuste pode ocorrer por diversos motivos, como:\n",
    "\n",
    "- Clientes que não realizaram o pagamento e a loja precisa registrar essa perda.\n",
    "- Correções contábeis internas para remover valores que não podem ser recuperados.\n",
    "- Cancelamento de vendas onde o pagamento não foi efetuado corretamente.\n",
    "\n",
    "Esses registros não devem ser considerados como transações de venda, pois representam ajustes financeiros.\n"
   ]
  },
  {
   "cell_type": "code",
   "execution_count": 18,
   "id": "39665df5-bb93-48d8-b7c1-68447b2dc65c",
   "metadata": {},
   "outputs": [
    {
     "data": {
      "text/plain": [
       "array(['Adjust bad debt'], dtype=object)"
      ]
     },
     "execution_count": 18,
     "metadata": {},
     "output_type": "execute_result"
    }
   ],
   "source": [
    "df[(df[\"UnitPrice\"] < 0)][\"Description\"].unique()"
   ]
  },
  {
   "cell_type": "markdown",
   "id": "dbad4679-ce26-408d-9b85-4ca34dbaef00",
   "metadata": {},
   "source": [
    "### Analisando separadamente quando as colunas Quantity e UnitPrice têm valor zero ou negativo\n",
    "\n",
    "A análise dos valores zero ou negativos nas colunas `Quantity` e `UnitPrice` revelou padrões que indicam diferentes tipos de registros no dataset:\n",
    "\n",
    "1. **Problemas de qualidade e produtos danificados**: Muitos registros estão relacionados a produtos com defeitos, como itens quebrados, danificados, molhados ou mofados, que foram descartados e marcados no sistema com preço zero.\n",
    "\n",
    "2. **Ajustes internos e correções de estoque**: Há registros de ajustes contábeis ou correções de inventário, onde a loja modificou dados sem afetar diretamente vendas, utilizando valores zerados para manter controle.\n",
    "\n",
    "3. **Erros de registro e venda**: Alguns itens foram cadastrados incorretamente, seja por problemas de código de barras, identificação errada ou vendas realizadas em formatos errados, como conjuntos que deveriam ser vendidos separadamente.\n",
    "\n",
    "4. **Produtos promocionais e amostras**: Alguns itens têm descrições indicando que foram distribuídos gratuitamente, seja como amostras, brindes ou itens de showroom.\n",
    "\n",
    "5. **Devoluções e ajustes financeiros**: Valores negativos aparecem principalmente em registros associados a faturas canceladas e notas de crédito, indicando devoluções de clientes e ajustes em transações anteriores.\n",
    "\n",
    "Esses padrões mostram que os valores zero e negativos não representam vendas normais e podem ser tratados separadamente ou removidos do dataset. Isso pode ajudar a evitar distorções nos cálculos financeiros e na avaliação de desempenho das vendas.\n"
   ]
  },
  {
   "cell_type": "markdown",
   "id": "1cb258ad-874e-491a-96c4-0dc17af2a8e6",
   "metadata": {},
   "source": [
    "### Quando `Quantity` é zero"
   ]
  },
  {
   "cell_type": "code",
   "execution_count": 19,
   "id": "b9577c2c-c5a5-413f-a2ab-da9a01a7d8c2",
   "metadata": {},
   "outputs": [
    {
     "data": {
      "text/plain": [
       "InvoiceNo      0\n",
       "StockCode      0\n",
       "Description    0\n",
       "Quantity       0\n",
       "InvoiceDate    0\n",
       "UnitPrice      0\n",
       "CustomerID     0\n",
       "Country        0\n",
       "dtype: int64"
      ]
     },
     "execution_count": 19,
     "metadata": {},
     "output_type": "execute_result"
    }
   ],
   "source": [
    "df[df[\"Quantity\"] == 0].nunique()"
   ]
  },
  {
   "cell_type": "markdown",
   "id": "f576329f-9aa4-4b23-acff-72b3ef4d59b9",
   "metadata": {},
   "source": [
    "### Quando `Quantity` menor que zero"
   ]
  },
  {
   "cell_type": "code",
   "execution_count": 20,
   "id": "94ed14d3-a9f0-40fa-9f9d-3c6d1454c1b3",
   "metadata": {},
   "outputs": [
    {
     "data": {
      "text/plain": [
       "InvoiceNo      5172\n",
       "StockCode      2559\n",
       "Description    2110\n",
       "Quantity        329\n",
       "InvoiceDate    4851\n",
       "UnitPrice       574\n",
       "CustomerID     1589\n",
       "Country          30\n",
       "dtype: int64"
      ]
     },
     "execution_count": 20,
     "metadata": {},
     "output_type": "execute_result"
    }
   ],
   "source": [
    "df[df[\"Quantity\"] < 0].nunique()"
   ]
  },
  {
   "cell_type": "markdown",
   "id": "b6e77dc4-534f-4e17-8348-ab4789dca2b1",
   "metadata": {},
   "source": [
    "### Quando `UnitPrice` é zero"
   ]
  },
  {
   "cell_type": "code",
   "execution_count": 21,
   "id": "630d9993-1a99-4646-8317-91999d7dfd4e",
   "metadata": {},
   "outputs": [
    {
     "data": {
      "text/plain": [
       "InvoiceNo      2155\n",
       "StockCode      1419\n",
       "Description     376\n",
       "Quantity        426\n",
       "InvoiceDate    1722\n",
       "UnitPrice         1\n",
       "CustomerID       31\n",
       "Country          10\n",
       "dtype: int64"
      ]
     },
     "execution_count": 21,
     "metadata": {},
     "output_type": "execute_result"
    }
   ],
   "source": [
    "df[df[\"UnitPrice\"] == 0].nunique()"
   ]
  },
  {
   "cell_type": "markdown",
   "id": "c67be083-498c-48b0-bce6-035ceab63983",
   "metadata": {},
   "source": [
    "### Quando `UnitPrice` é menor que zero"
   ]
  },
  {
   "cell_type": "code",
   "execution_count": 22,
   "id": "123628a3-ded0-47a7-b20c-bba933b7908f",
   "metadata": {},
   "outputs": [
    {
     "data": {
      "text/plain": [
       "InvoiceNo      2\n",
       "StockCode      1\n",
       "Description    1\n",
       "Quantity       1\n",
       "InvoiceDate    2\n",
       "UnitPrice      1\n",
       "CustomerID     0\n",
       "Country        1\n",
       "dtype: int64"
      ]
     },
     "execution_count": 22,
     "metadata": {},
     "output_type": "execute_result"
    }
   ],
   "source": [
    "df[df[\"UnitPrice\"] < 0].nunique()"
   ]
  },
  {
   "cell_type": "markdown",
   "id": "e2f615fd-fb8f-4d21-ab81-2b0cc62ea4db",
   "metadata": {},
   "source": [
    "## 2.14 Analisando valores ausentes, inconsistências e outliers\n",
    "- Registros de CustomerID ausentes devem ser removido pois não serão úteis para analisar o comportamento dos clientes\n",
    "- Usando os registros de StockCode foi possível encontrar os valores corretos para corrigir Description"
   ]
  },
  {
   "cell_type": "markdown",
   "id": "522b0ecc-e41f-406f-a12e-17c9579beb40",
   "metadata": {},
   "source": [
    "### Valores ausentes em CustomerID"
   ]
  },
  {
   "cell_type": "code",
   "execution_count": 23,
   "id": "e847cebf-1ead-49fe-8dd8-4145671ab9e6",
   "metadata": {},
   "outputs": [
    {
     "data": {
      "text/html": [
       "<div>\n",
       "<style scoped>\n",
       "    .dataframe tbody tr th:only-of-type {\n",
       "        vertical-align: middle;\n",
       "    }\n",
       "\n",
       "    .dataframe tbody tr th {\n",
       "        vertical-align: top;\n",
       "    }\n",
       "\n",
       "    .dataframe thead th {\n",
       "        text-align: right;\n",
       "    }\n",
       "</style>\n",
       "<table border=\"1\" class=\"dataframe\">\n",
       "  <thead>\n",
       "    <tr style=\"text-align: right;\">\n",
       "      <th></th>\n",
       "      <th>InvoiceNo</th>\n",
       "      <th>StockCode</th>\n",
       "      <th>Description</th>\n",
       "      <th>Quantity</th>\n",
       "      <th>InvoiceDate</th>\n",
       "      <th>UnitPrice</th>\n",
       "      <th>CustomerID</th>\n",
       "      <th>Country</th>\n",
       "    </tr>\n",
       "  </thead>\n",
       "  <tbody>\n",
       "    <tr>\n",
       "      <th>622</th>\n",
       "      <td>536414</td>\n",
       "      <td>22139</td>\n",
       "      <td>NaN</td>\n",
       "      <td>56</td>\n",
       "      <td>01-12-2010 11:52</td>\n",
       "      <td>0.00</td>\n",
       "      <td>NaN</td>\n",
       "      <td>United Kingdom</td>\n",
       "    </tr>\n",
       "    <tr>\n",
       "      <th>1443</th>\n",
       "      <td>536544</td>\n",
       "      <td>21773</td>\n",
       "      <td>DECORATIVE ROSE BATHROOM BOTTLE</td>\n",
       "      <td>1</td>\n",
       "      <td>01-12-2010 14:32</td>\n",
       "      <td>2.51</td>\n",
       "      <td>NaN</td>\n",
       "      <td>United Kingdom</td>\n",
       "    </tr>\n",
       "    <tr>\n",
       "      <th>1444</th>\n",
       "      <td>536544</td>\n",
       "      <td>21774</td>\n",
       "      <td>DECORATIVE CATS BATHROOM BOTTLE</td>\n",
       "      <td>2</td>\n",
       "      <td>01-12-2010 14:32</td>\n",
       "      <td>2.51</td>\n",
       "      <td>NaN</td>\n",
       "      <td>United Kingdom</td>\n",
       "    </tr>\n",
       "    <tr>\n",
       "      <th>1445</th>\n",
       "      <td>536544</td>\n",
       "      <td>21786</td>\n",
       "      <td>POLKADOT RAIN HAT</td>\n",
       "      <td>4</td>\n",
       "      <td>01-12-2010 14:32</td>\n",
       "      <td>0.85</td>\n",
       "      <td>NaN</td>\n",
       "      <td>United Kingdom</td>\n",
       "    </tr>\n",
       "    <tr>\n",
       "      <th>1446</th>\n",
       "      <td>536544</td>\n",
       "      <td>21787</td>\n",
       "      <td>RAIN PONCHO RETROSPOT</td>\n",
       "      <td>2</td>\n",
       "      <td>01-12-2010 14:32</td>\n",
       "      <td>1.66</td>\n",
       "      <td>NaN</td>\n",
       "      <td>United Kingdom</td>\n",
       "    </tr>\n",
       "    <tr>\n",
       "      <th>...</th>\n",
       "      <td>...</td>\n",
       "      <td>...</td>\n",
       "      <td>...</td>\n",
       "      <td>...</td>\n",
       "      <td>...</td>\n",
       "      <td>...</td>\n",
       "      <td>...</td>\n",
       "      <td>...</td>\n",
       "    </tr>\n",
       "    <tr>\n",
       "      <th>541536</th>\n",
       "      <td>581498</td>\n",
       "      <td>85099B</td>\n",
       "      <td>JUMBO BAG RED RETROSPOT</td>\n",
       "      <td>5</td>\n",
       "      <td>09-12-2011 10:26</td>\n",
       "      <td>4.13</td>\n",
       "      <td>NaN</td>\n",
       "      <td>United Kingdom</td>\n",
       "    </tr>\n",
       "    <tr>\n",
       "      <th>541537</th>\n",
       "      <td>581498</td>\n",
       "      <td>85099C</td>\n",
       "      <td>JUMBO  BAG BAROQUE BLACK WHITE</td>\n",
       "      <td>4</td>\n",
       "      <td>09-12-2011 10:26</td>\n",
       "      <td>4.13</td>\n",
       "      <td>NaN</td>\n",
       "      <td>United Kingdom</td>\n",
       "    </tr>\n",
       "    <tr>\n",
       "      <th>541538</th>\n",
       "      <td>581498</td>\n",
       "      <td>85150</td>\n",
       "      <td>LADIES &amp; GENTLEMEN METAL SIGN</td>\n",
       "      <td>1</td>\n",
       "      <td>09-12-2011 10:26</td>\n",
       "      <td>4.96</td>\n",
       "      <td>NaN</td>\n",
       "      <td>United Kingdom</td>\n",
       "    </tr>\n",
       "    <tr>\n",
       "      <th>541539</th>\n",
       "      <td>581498</td>\n",
       "      <td>85174</td>\n",
       "      <td>S/4 CACTI CANDLES</td>\n",
       "      <td>1</td>\n",
       "      <td>09-12-2011 10:26</td>\n",
       "      <td>10.79</td>\n",
       "      <td>NaN</td>\n",
       "      <td>United Kingdom</td>\n",
       "    </tr>\n",
       "    <tr>\n",
       "      <th>541540</th>\n",
       "      <td>581498</td>\n",
       "      <td>DOT</td>\n",
       "      <td>DOTCOM POSTAGE</td>\n",
       "      <td>1</td>\n",
       "      <td>09-12-2011 10:26</td>\n",
       "      <td>1714.17</td>\n",
       "      <td>NaN</td>\n",
       "      <td>United Kingdom</td>\n",
       "    </tr>\n",
       "  </tbody>\n",
       "</table>\n",
       "<p>135080 rows × 8 columns</p>\n",
       "</div>"
      ],
      "text/plain": [
       "       InvoiceNo StockCode                      Description  Quantity  \\\n",
       "622       536414     22139                              NaN        56   \n",
       "1443      536544     21773  DECORATIVE ROSE BATHROOM BOTTLE         1   \n",
       "1444      536544     21774  DECORATIVE CATS BATHROOM BOTTLE         2   \n",
       "1445      536544     21786               POLKADOT RAIN HAT          4   \n",
       "1446      536544     21787            RAIN PONCHO RETROSPOT         2   \n",
       "...          ...       ...                              ...       ...   \n",
       "541536    581498    85099B          JUMBO BAG RED RETROSPOT         5   \n",
       "541537    581498    85099C   JUMBO  BAG BAROQUE BLACK WHITE         4   \n",
       "541538    581498     85150    LADIES & GENTLEMEN METAL SIGN         1   \n",
       "541539    581498     85174                S/4 CACTI CANDLES         1   \n",
       "541540    581498       DOT                   DOTCOM POSTAGE         1   \n",
       "\n",
       "             InvoiceDate  UnitPrice  CustomerID         Country  \n",
       "622     01-12-2010 11:52       0.00         NaN  United Kingdom  \n",
       "1443    01-12-2010 14:32       2.51         NaN  United Kingdom  \n",
       "1444    01-12-2010 14:32       2.51         NaN  United Kingdom  \n",
       "1445    01-12-2010 14:32       0.85         NaN  United Kingdom  \n",
       "1446    01-12-2010 14:32       1.66         NaN  United Kingdom  \n",
       "...                  ...        ...         ...             ...  \n",
       "541536  09-12-2011 10:26       4.13         NaN  United Kingdom  \n",
       "541537  09-12-2011 10:26       4.13         NaN  United Kingdom  \n",
       "541538  09-12-2011 10:26       4.96         NaN  United Kingdom  \n",
       "541539  09-12-2011 10:26      10.79         NaN  United Kingdom  \n",
       "541540  09-12-2011 10:26    1714.17         NaN  United Kingdom  \n",
       "\n",
       "[135080 rows x 8 columns]"
      ]
     },
     "execution_count": 23,
     "metadata": {},
     "output_type": "execute_result"
    }
   ],
   "source": [
    "df[df[\"CustomerID\"].isnull()]"
   ]
  },
  {
   "cell_type": "markdown",
   "id": "eb8ea30a-4237-4da7-aac6-e42261107965",
   "metadata": {},
   "source": [
    "### Valores ausentes em Description"
   ]
  },
  {
   "cell_type": "code",
   "execution_count": 24,
   "id": "7b2f37a5-a2e1-48e0-bfe8-434e4399edaf",
   "metadata": {},
   "outputs": [
    {
     "data": {
      "text/html": [
       "<div>\n",
       "<style scoped>\n",
       "    .dataframe tbody tr th:only-of-type {\n",
       "        vertical-align: middle;\n",
       "    }\n",
       "\n",
       "    .dataframe tbody tr th {\n",
       "        vertical-align: top;\n",
       "    }\n",
       "\n",
       "    .dataframe thead th {\n",
       "        text-align: right;\n",
       "    }\n",
       "</style>\n",
       "<table border=\"1\" class=\"dataframe\">\n",
       "  <thead>\n",
       "    <tr style=\"text-align: right;\">\n",
       "      <th></th>\n",
       "      <th>InvoiceNo</th>\n",
       "      <th>StockCode</th>\n",
       "      <th>Description</th>\n",
       "      <th>Quantity</th>\n",
       "      <th>InvoiceDate</th>\n",
       "      <th>UnitPrice</th>\n",
       "      <th>CustomerID</th>\n",
       "      <th>Country</th>\n",
       "    </tr>\n",
       "  </thead>\n",
       "  <tbody>\n",
       "    <tr>\n",
       "      <th>622</th>\n",
       "      <td>536414</td>\n",
       "      <td>22139</td>\n",
       "      <td>NaN</td>\n",
       "      <td>56</td>\n",
       "      <td>01-12-2010 11:52</td>\n",
       "      <td>0.0</td>\n",
       "      <td>NaN</td>\n",
       "      <td>United Kingdom</td>\n",
       "    </tr>\n",
       "    <tr>\n",
       "      <th>1970</th>\n",
       "      <td>536545</td>\n",
       "      <td>21134</td>\n",
       "      <td>NaN</td>\n",
       "      <td>1</td>\n",
       "      <td>01-12-2010 14:32</td>\n",
       "      <td>0.0</td>\n",
       "      <td>NaN</td>\n",
       "      <td>United Kingdom</td>\n",
       "    </tr>\n",
       "    <tr>\n",
       "      <th>1971</th>\n",
       "      <td>536546</td>\n",
       "      <td>22145</td>\n",
       "      <td>NaN</td>\n",
       "      <td>1</td>\n",
       "      <td>01-12-2010 14:33</td>\n",
       "      <td>0.0</td>\n",
       "      <td>NaN</td>\n",
       "      <td>United Kingdom</td>\n",
       "    </tr>\n",
       "    <tr>\n",
       "      <th>1972</th>\n",
       "      <td>536547</td>\n",
       "      <td>37509</td>\n",
       "      <td>NaN</td>\n",
       "      <td>1</td>\n",
       "      <td>01-12-2010 14:33</td>\n",
       "      <td>0.0</td>\n",
       "      <td>NaN</td>\n",
       "      <td>United Kingdom</td>\n",
       "    </tr>\n",
       "    <tr>\n",
       "      <th>1987</th>\n",
       "      <td>536549</td>\n",
       "      <td>85226A</td>\n",
       "      <td>NaN</td>\n",
       "      <td>1</td>\n",
       "      <td>01-12-2010 14:34</td>\n",
       "      <td>0.0</td>\n",
       "      <td>NaN</td>\n",
       "      <td>United Kingdom</td>\n",
       "    </tr>\n",
       "    <tr>\n",
       "      <th>...</th>\n",
       "      <td>...</td>\n",
       "      <td>...</td>\n",
       "      <td>...</td>\n",
       "      <td>...</td>\n",
       "      <td>...</td>\n",
       "      <td>...</td>\n",
       "      <td>...</td>\n",
       "      <td>...</td>\n",
       "    </tr>\n",
       "    <tr>\n",
       "      <th>535322</th>\n",
       "      <td>581199</td>\n",
       "      <td>84581</td>\n",
       "      <td>NaN</td>\n",
       "      <td>-2</td>\n",
       "      <td>07-12-2011 18:26</td>\n",
       "      <td>0.0</td>\n",
       "      <td>NaN</td>\n",
       "      <td>United Kingdom</td>\n",
       "    </tr>\n",
       "    <tr>\n",
       "      <th>535326</th>\n",
       "      <td>581203</td>\n",
       "      <td>23406</td>\n",
       "      <td>NaN</td>\n",
       "      <td>15</td>\n",
       "      <td>07-12-2011 18:31</td>\n",
       "      <td>0.0</td>\n",
       "      <td>NaN</td>\n",
       "      <td>United Kingdom</td>\n",
       "    </tr>\n",
       "    <tr>\n",
       "      <th>535332</th>\n",
       "      <td>581209</td>\n",
       "      <td>21620</td>\n",
       "      <td>NaN</td>\n",
       "      <td>6</td>\n",
       "      <td>07-12-2011 18:35</td>\n",
       "      <td>0.0</td>\n",
       "      <td>NaN</td>\n",
       "      <td>United Kingdom</td>\n",
       "    </tr>\n",
       "    <tr>\n",
       "      <th>536981</th>\n",
       "      <td>581234</td>\n",
       "      <td>72817</td>\n",
       "      <td>NaN</td>\n",
       "      <td>27</td>\n",
       "      <td>08-12-2011 10:33</td>\n",
       "      <td>0.0</td>\n",
       "      <td>NaN</td>\n",
       "      <td>United Kingdom</td>\n",
       "    </tr>\n",
       "    <tr>\n",
       "      <th>538554</th>\n",
       "      <td>581408</td>\n",
       "      <td>85175</td>\n",
       "      <td>NaN</td>\n",
       "      <td>20</td>\n",
       "      <td>08-12-2011 14:06</td>\n",
       "      <td>0.0</td>\n",
       "      <td>NaN</td>\n",
       "      <td>United Kingdom</td>\n",
       "    </tr>\n",
       "  </tbody>\n",
       "</table>\n",
       "<p>1454 rows × 8 columns</p>\n",
       "</div>"
      ],
      "text/plain": [
       "       InvoiceNo StockCode Description  Quantity       InvoiceDate  UnitPrice  \\\n",
       "622       536414     22139         NaN        56  01-12-2010 11:52        0.0   \n",
       "1970      536545     21134         NaN         1  01-12-2010 14:32        0.0   \n",
       "1971      536546     22145         NaN         1  01-12-2010 14:33        0.0   \n",
       "1972      536547     37509         NaN         1  01-12-2010 14:33        0.0   \n",
       "1987      536549    85226A         NaN         1  01-12-2010 14:34        0.0   \n",
       "...          ...       ...         ...       ...               ...        ...   \n",
       "535322    581199     84581         NaN        -2  07-12-2011 18:26        0.0   \n",
       "535326    581203     23406         NaN        15  07-12-2011 18:31        0.0   \n",
       "535332    581209     21620         NaN         6  07-12-2011 18:35        0.0   \n",
       "536981    581234     72817         NaN        27  08-12-2011 10:33        0.0   \n",
       "538554    581408     85175         NaN        20  08-12-2011 14:06        0.0   \n",
       "\n",
       "        CustomerID         Country  \n",
       "622            NaN  United Kingdom  \n",
       "1970           NaN  United Kingdom  \n",
       "1971           NaN  United Kingdom  \n",
       "1972           NaN  United Kingdom  \n",
       "1987           NaN  United Kingdom  \n",
       "...            ...             ...  \n",
       "535322         NaN  United Kingdom  \n",
       "535326         NaN  United Kingdom  \n",
       "535332         NaN  United Kingdom  \n",
       "536981         NaN  United Kingdom  \n",
       "538554         NaN  United Kingdom  \n",
       "\n",
       "[1454 rows x 8 columns]"
      ]
     },
     "execution_count": 24,
     "metadata": {},
     "output_type": "execute_result"
    }
   ],
   "source": [
    "df[df[\"Description\"].isnull()]"
   ]
  },
  {
   "cell_type": "markdown",
   "id": "056ad90c-271a-4102-8eb4-076d5ab764b4",
   "metadata": {},
   "source": [
    "### Valores de Description encontrados através de StockCode\n",
    "- Nesse exemplo, foram encontrado três valores em Description, sendo que o correto é o primeiro\n",
    "- Para corrigir esse e outros valores, o primeiro valor único que não seja null deve substituir os outros"
   ]
  },
  {
   "cell_type": "code",
   "execution_count": 25,
   "id": "47e8500f-6536-4cea-b7fc-caddc2d90c95",
   "metadata": {},
   "outputs": [
    {
     "data": {
      "text/plain": [
       "array(['RETROSPOT TEA SET CERAMIC 11 PC ', nan, 'amazon'], dtype=object)"
      ]
     },
     "execution_count": 25,
     "metadata": {},
     "output_type": "execute_result"
    }
   ],
   "source": [
    "df[df[\"StockCode\"] == \"22139\"][\"Description\"].unique()"
   ]
  },
  {
   "cell_type": "markdown",
   "id": "9ce60585-99cd-4bcd-8405-c97770c0e5d7",
   "metadata": {},
   "source": [
    "## Análise Descritiva de Quantity\n",
    "- O valor máximo (80.995K) está muito acima do terceiro quartil (10.0) e afetando o valor do desvio padrão (218.08K)\n",
    "- O valor mínimo (-80.995K) também está muito discrepante\n",
    "- Esses outliers precisam ser tratados na etapa de pré-processamento"
   ]
  },
  {
   "cell_type": "code",
   "execution_count": 26,
   "id": "4686910b-db07-4f90-877d-c27cd54dbc50",
   "metadata": {},
   "outputs": [
    {
     "data": {
      "text/plain": [
       "count    541909.000000\n",
       "mean          9.552250\n",
       "std         218.081158\n",
       "min      -80995.000000\n",
       "25%           1.000000\n",
       "50%           3.000000\n",
       "75%          10.000000\n",
       "max       80995.000000\n",
       "Name: Quantity, dtype: float64"
      ]
     },
     "execution_count": 26,
     "metadata": {},
     "output_type": "execute_result"
    }
   ],
   "source": [
    "df[\"Quantity\"].describe()"
   ]
  },
  {
   "cell_type": "markdown",
   "id": "9033f244-0efb-4c01-b2b7-33eeb3442d8a",
   "metadata": {},
   "source": [
    "## Análise Descritiva de UnitPrice\n",
    "- Os valores de UnitPrice também possuem outliers que precisam ser tratados na etapa de pré-processamento"
   ]
  },
  {
   "cell_type": "code",
   "execution_count": 27,
   "id": "beb3b443-54ab-4cea-9bf6-52eb93d5fd84",
   "metadata": {},
   "outputs": [
    {
     "data": {
      "text/plain": [
       "count    541909.000000\n",
       "mean          4.611114\n",
       "std          96.759853\n",
       "min      -11062.060000\n",
       "25%           1.250000\n",
       "50%           2.080000\n",
       "75%           4.130000\n",
       "max       38970.000000\n",
       "Name: UnitPrice, dtype: float64"
      ]
     },
     "execution_count": 27,
     "metadata": {},
     "output_type": "execute_result"
    }
   ],
   "source": [
    "df[\"UnitPrice\"].describe()"
   ]
  },
  {
   "cell_type": "markdown",
   "id": "a65963a4-6f70-434c-8e2c-4757615bccb1",
   "metadata": {},
   "source": [
    "# 3 - Pré-processamento de dados"
   ]
  },
  {
   "cell_type": "markdown",
   "id": "ba176c6a-a4aa-471e-8d06-f61df33f2b44",
   "metadata": {},
   "source": [
    "## 3.1 Removendo registros ausentes de CustomerID \n",
    "- Remover os registros ausentes em CustomerID também removeu os de Description\n",
    "- Não há mais necessidade de corrigir Description"
   ]
  },
  {
   "cell_type": "code",
   "execution_count": 28,
   "id": "148d7b7a-7c10-490d-b5d3-4dad608b3dff",
   "metadata": {},
   "outputs": [],
   "source": [
    "df.dropna(subset=[\"CustomerID\"], inplace=True)"
   ]
  },
  {
   "cell_type": "code",
   "execution_count": 29,
   "id": "b4127aae-9ebc-4547-b65e-e9562bf9f58b",
   "metadata": {},
   "outputs": [
    {
     "data": {
      "text/plain": [
       "array([False])"
      ]
     },
     "execution_count": 29,
     "metadata": {},
     "output_type": "execute_result"
    }
   ],
   "source": [
    "df[\"Description\"].isnull().unique()"
   ]
  },
  {
   "cell_type": "markdown",
   "id": "a89d7d2b-3ef2-48eb-b644-31686733f9f0",
   "metadata": {},
   "source": [
    "## 3.2 Removendo compras não realizadas de Quantity e UnitPrice\n",
    "- Esses registros não são relevantes para analisar o comportamento dos clientes\n",
    "- O objetivo do projeto é entender o padrão de compras dos clientes"
   ]
  },
  {
   "cell_type": "code",
   "execution_count": 30,
   "id": "88309c50-6454-4f49-b0ce-c5967d4cd577",
   "metadata": {},
   "outputs": [],
   "source": [
    "df = df[df[\"Quantity\"] > 0]\n",
    "df = df[df[\"UnitPrice\"] > 0]"
   ]
  },
  {
   "cell_type": "markdown",
   "id": "a5df47fb-1c22-4cac-9bb8-309c26fe95ea",
   "metadata": {},
   "source": [
    "## 3.3 Removendo outliers de Quantity e UnitPrice com o método IQR\n",
    "\n",
    "O **IQR (Interquartile Range)**, que em português se chama **Amplitude Interquantil (AIQ)**, é um método estatístico que mede a dispersão dos dados e identifica outliers. Ele calcula a diferença entre **Q3 (75%)** e **Q1 (25%)**, definindo um intervalo esperado. Valores fora de `Q1 - 1.5 * IQR` e `Q3 + 1.5 * IQR` são considerados extremos e podem ser removidos ou analisados separadamente.\n",
    "\n",
    "O método IQR foi utilizado para identificar e remover outliers na coluna Quantity. Foram calculados os quartis **Q1 (25%)** e **Q3 (75%)**, e os limites foram definidos como `Q1 - 1.5 * IQR` e `Q3 + 1.5 * IQR`. Apenas os registros dentro desse intervalo foram mantidos, garantindo que valores extremos não distorcessem a análise."
   ]
  },
  {
   "cell_type": "code",
   "execution_count": 31,
   "id": "1965b90f-f814-49f7-a90f-88f4e7a66fc1",
   "metadata": {},
   "outputs": [],
   "source": [
    "Q1 = df[\"Quantity\"].quantile(0.25)\n",
    "Q3 = df[\"Quantity\"].quantile(0.75)\n",
    "IQR = Q3 - Q1\n",
    "\n",
    "df = df[(df[\"Quantity\"] >= Q1 - 1.5 * IQR) & (df[\"Quantity\"] <= Q3 + 1.5 * IQR)]\n",
    "\n",
    "Q1 = df[\"UnitPrice\"].quantile(0.25)\n",
    "Q3 = df[\"UnitPrice\"].quantile(0.75)\n",
    "IQR = Q3 - Q1\n",
    "\n",
    "df = df[(df[\"UnitPrice\"] >= Q1 - 1.5 * IQR) & (df[\"UnitPrice\"] <= Q3 + 1.5 * IQR)]"
   ]
  },
  {
   "cell_type": "markdown",
   "id": "d738f687-79e3-408c-846c-cf45a1897a46",
   "metadata": {},
   "source": [
    "### **Análise Descritiva de Quantity e UnitPrice após a aplicação do IQR**\n",
    "\n",
    "A aplicação do IQR reduziu a quantidade de registros de **541.909 para 338.151**, eliminando valores extremos que poderiam distorcer a análise.\n",
    "\n",
    "#### **Principais mudanças antes e depois do IQR**\n",
    "- **Média**:\n",
    "  - `Quantity`: De **9.55** para **7.48**, mostrando que valores atípicos elevavam a média inicial.\n",
    "  - `UnitPrice`: De **4.61** para **2.19**, indicando que preços extremos impactavam a média.\n",
    "\n",
    "- **Desvio padrão**:\n",
    "  - `Quantity`: De **218.08** para **6.77**, demonstrando uma redução significativa na dispersão dos dados.\n",
    "  - `UnitPrice`: De **96.76** para **1.54**, tornando os preços mais consistentes.\n",
    "\n",
    "- **Máximo**:\n",
    "  - `Quantity`: De **80.995** para **27**, eliminando valores extremamente altos.\n",
    "  - `UnitPrice`: De **38.970** para **7.50**, removendo preços anômalos.\n",
    "\n",
    "- **Mínimo**:\n",
    "  - `Quantity`: De **-80.995** para **1**, retirando valores negativos que não representavam compras reais.\n",
    "  - `UnitPrice`: De **-11.062** para **0.001**, ajustando possíveis registros incorretos.\n",
    "\n",
    "- **Mediana**:\n",
    "  - `Quantity`: De **3** para **6**, refletindo um aumento nos valores centrais após a filtragem.\n",
    "  - `UnitPrice`: De **2.08** para **1.65**, mostrando que a maioria dos preços se concentra em valores menores.\n",
    "\n",
    "A filtragem pelo **IQR** estabilizou a distribuição dos dados, eliminando transações que poderiam distorcer as métricas e tornando a análise mais representativa do comportamento de compra dos clientes.  "
   ]
  },
  {
   "cell_type": "code",
   "execution_count": 32,
   "id": "d6be5cfc-5448-4a06-b6d4-36ce4ea19144",
   "metadata": {},
   "outputs": [
    {
     "data": {
      "text/plain": [
       "count    338151.000000\n",
       "mean          7.476917\n",
       "std           6.770795\n",
       "min           1.000000\n",
       "25%           2.000000\n",
       "50%           6.000000\n",
       "75%          12.000000\n",
       "max          27.000000\n",
       "Name: Quantity, dtype: float64"
      ]
     },
     "execution_count": 32,
     "metadata": {},
     "output_type": "execute_result"
    }
   ],
   "source": [
    "df[\"Quantity\"].describe()"
   ]
  },
  {
   "cell_type": "code",
   "execution_count": 33,
   "id": "d9c8f1b3-da5f-4167-bbb7-c1515ac00b84",
   "metadata": {},
   "outputs": [
    {
     "data": {
      "text/plain": [
       "count    338151.000000\n",
       "mean          2.192017\n",
       "std           1.544770\n",
       "min           0.001000\n",
       "25%           1.250000\n",
       "50%           1.650000\n",
       "75%           2.950000\n",
       "max           7.500000\n",
       "Name: UnitPrice, dtype: float64"
      ]
     },
     "execution_count": 33,
     "metadata": {},
     "output_type": "execute_result"
    }
   ],
   "source": [
    "df[\"UnitPrice\"].describe()"
   ]
  },
  {
   "cell_type": "markdown",
   "id": "06f6f28e-1526-4ff4-bfd3-aae03f6da375",
   "metadata": {},
   "source": [
    "## 3.4 Tratando os tipos de dados das colunas"
   ]
  },
  {
   "cell_type": "markdown",
   "id": "01c16593-7aad-46e0-8d1e-b5cefea067d1",
   "metadata": {},
   "source": [
    "### Visualizando os tipos de dado das colunas"
   ]
  },
  {
   "cell_type": "code",
   "execution_count": 34,
   "id": "98cc750e-db7c-4f9a-8f91-7fe5f370a822",
   "metadata": {},
   "outputs": [
    {
     "name": "stdout",
     "output_type": "stream",
     "text": [
      "<class 'pandas.core.frame.DataFrame'>\n",
      "Index: 338151 entries, 0 to 541908\n",
      "Data columns (total 8 columns):\n",
      " #   Column       Non-Null Count   Dtype  \n",
      "---  ------       --------------   -----  \n",
      " 0   InvoiceNo    338151 non-null  object \n",
      " 1   StockCode    338151 non-null  object \n",
      " 2   Description  338151 non-null  object \n",
      " 3   Quantity     338151 non-null  int64  \n",
      " 4   InvoiceDate  338151 non-null  object \n",
      " 5   UnitPrice    338151 non-null  float64\n",
      " 6   CustomerID   338151 non-null  float64\n",
      " 7   Country      338151 non-null  object \n",
      "dtypes: float64(2), int64(1), object(5)\n",
      "memory usage: 23.2+ MB\n"
     ]
    }
   ],
   "source": [
    "df.info()"
   ]
  },
  {
   "cell_type": "markdown",
   "id": "560fa9ba-1d15-49fb-8f11-9e62eb399a0b",
   "metadata": {},
   "source": [
    "### **Correção e Padronização dos Dados**  \n",
    "\n",
    "Os tipos de dados das colunas foram ajustados para garantir compatibilidade na análise, prevenindo inconsistências. Foram aplicadas transformações para padronizar a data e separar o horário das transações.  \n",
    "\n",
    "1. **Correção dos tipos de dados**:  \n",
    "   - `InvoiceNo`, `Quantity` → Convertidos para `int64`, garantindo valores inteiros.  \n",
    "   - `UnitPrice` → Convertido para `float64`, permitindo cálculos financeiros.  \n",
    "   - `StockCode`, `Description`, `CustomerID`, `Country` → Convertidos para `str`, garantindo uniformidade nos identificadores e categorias.  \n",
    "\n",
    "2. **Transformação da coluna `InvoiceDate`**:  \n",
    "   - Convertida para o formato `DD/MM/YYYY`, facilitando a leitura e a análise temporal.  \n",
    "   - Criada a coluna `InvoiceTime`, armazenando apenas o horário para estudos detalhados sobre padrões de compra ao longo do dia.  \n",
    "\n",
    "3. **Reorganização do DataFrame**:  \n",
    "   - As colunas essenciais foram mantidas, garantindo um conjunto de dados limpo e otimizado para análise.  \n",
    "\n",
    "Essas transformações asseguram que os dados estejam padronizados e prontos para serem utilizados na análise do comportamento de compras dos clientes."
   ]
  },
  {
   "cell_type": "code",
   "execution_count": 35,
   "id": "99e94c5d-0b63-4a26-852e-2a070beb52dc",
   "metadata": {},
   "outputs": [],
   "source": [
    "# Corrigindo tipos de dados\n",
    "df[\"InvoiceNo\"] = df[\"InvoiceNo\"].astype(str)\n",
    "df[\"StockCode\"] = df[\"StockCode\"].astype(str)\n",
    "df[\"Description\"] = df[\"Description\"].astype(str)\n",
    "df[\"Quantity\"] = df[\"Quantity\"].astype(np.int64)\n",
    "df[\"UnitPrice\"] = df[\"UnitPrice\"].astype(np.float64)\n",
    "df[\"CustomerID\"] = df[\"CustomerID\"].astype(str)\n",
    "df[\"Country\"] = df[\"Country\"].astype(str)\n",
    "\n",
    "# Separando data e hora corretamente\n",
    "df[\"InvoiceDate\"] = pd.to_datetime(df[\"InvoiceDate\"], format=\"%d-%m-%Y %H:%M\")\n",
    "df[\"InvoiceTime\"] = pd.to_datetime(df[\"InvoiceDate\"]).dt.time  # Extraindo apenas o horário\n",
    "df[\"InvoiceDate\"] = pd.to_datetime(df[\"InvoiceDate\"]).dt.strftime(\"%d/%m/%Y\") # Formato DD/MM/YYYY\n",
    "\n",
    "# Reorganizando o dataframe deixando o InvoiceDate e InvoiceTime lado a lado\n",
    "df = df[[\"InvoiceNo\", \"StockCode\", \"Description\", \"Quantity\", \"InvoiceDate\", \"InvoiceTime\", \"UnitPrice\", \"Country\"]]"
   ]
  },
  {
   "cell_type": "markdown",
   "id": "ec977d62-fbb5-4296-a283-fdc42f3e7082",
   "metadata": {},
   "source": [
    "## Visualização do dataframe após as correções"
   ]
  },
  {
   "cell_type": "code",
   "execution_count": 36,
   "id": "8491dca5-5462-4141-bf32-bbf16b30ad1c",
   "metadata": {},
   "outputs": [
    {
     "data": {
      "text/html": [
       "<div>\n",
       "<style scoped>\n",
       "    .dataframe tbody tr th:only-of-type {\n",
       "        vertical-align: middle;\n",
       "    }\n",
       "\n",
       "    .dataframe tbody tr th {\n",
       "        vertical-align: top;\n",
       "    }\n",
       "\n",
       "    .dataframe thead th {\n",
       "        text-align: right;\n",
       "    }\n",
       "</style>\n",
       "<table border=\"1\" class=\"dataframe\">\n",
       "  <thead>\n",
       "    <tr style=\"text-align: right;\">\n",
       "      <th></th>\n",
       "      <th>InvoiceNo</th>\n",
       "      <th>StockCode</th>\n",
       "      <th>Description</th>\n",
       "      <th>Quantity</th>\n",
       "      <th>InvoiceDate</th>\n",
       "      <th>InvoiceTime</th>\n",
       "      <th>UnitPrice</th>\n",
       "      <th>Country</th>\n",
       "    </tr>\n",
       "  </thead>\n",
       "  <tbody>\n",
       "    <tr>\n",
       "      <th>0</th>\n",
       "      <td>536365</td>\n",
       "      <td>85123A</td>\n",
       "      <td>WHITE HANGING HEART T-LIGHT HOLDER</td>\n",
       "      <td>6</td>\n",
       "      <td>01/12/2010</td>\n",
       "      <td>08:26:00</td>\n",
       "      <td>2.55</td>\n",
       "      <td>United Kingdom</td>\n",
       "    </tr>\n",
       "    <tr>\n",
       "      <th>1</th>\n",
       "      <td>536365</td>\n",
       "      <td>71053</td>\n",
       "      <td>WHITE METAL LANTERN</td>\n",
       "      <td>6</td>\n",
       "      <td>01/12/2010</td>\n",
       "      <td>08:26:00</td>\n",
       "      <td>3.39</td>\n",
       "      <td>United Kingdom</td>\n",
       "    </tr>\n",
       "    <tr>\n",
       "      <th>2</th>\n",
       "      <td>536365</td>\n",
       "      <td>84406B</td>\n",
       "      <td>CREAM CUPID HEARTS COAT HANGER</td>\n",
       "      <td>8</td>\n",
       "      <td>01/12/2010</td>\n",
       "      <td>08:26:00</td>\n",
       "      <td>2.75</td>\n",
       "      <td>United Kingdom</td>\n",
       "    </tr>\n",
       "    <tr>\n",
       "      <th>3</th>\n",
       "      <td>536365</td>\n",
       "      <td>84029G</td>\n",
       "      <td>KNITTED UNION FLAG HOT WATER BOTTLE</td>\n",
       "      <td>6</td>\n",
       "      <td>01/12/2010</td>\n",
       "      <td>08:26:00</td>\n",
       "      <td>3.39</td>\n",
       "      <td>United Kingdom</td>\n",
       "    </tr>\n",
       "    <tr>\n",
       "      <th>4</th>\n",
       "      <td>536365</td>\n",
       "      <td>84029E</td>\n",
       "      <td>RED WOOLLY HOTTIE WHITE HEART.</td>\n",
       "      <td>6</td>\n",
       "      <td>01/12/2010</td>\n",
       "      <td>08:26:00</td>\n",
       "      <td>3.39</td>\n",
       "      <td>United Kingdom</td>\n",
       "    </tr>\n",
       "    <tr>\n",
       "      <th>...</th>\n",
       "      <td>...</td>\n",
       "      <td>...</td>\n",
       "      <td>...</td>\n",
       "      <td>...</td>\n",
       "      <td>...</td>\n",
       "      <td>...</td>\n",
       "      <td>...</td>\n",
       "      <td>...</td>\n",
       "    </tr>\n",
       "    <tr>\n",
       "      <th>541904</th>\n",
       "      <td>581587</td>\n",
       "      <td>22613</td>\n",
       "      <td>PACK OF 20 SPACEBOY NAPKINS</td>\n",
       "      <td>12</td>\n",
       "      <td>09/12/2011</td>\n",
       "      <td>12:50:00</td>\n",
       "      <td>0.85</td>\n",
       "      <td>France</td>\n",
       "    </tr>\n",
       "    <tr>\n",
       "      <th>541905</th>\n",
       "      <td>581587</td>\n",
       "      <td>22899</td>\n",
       "      <td>CHILDREN'S APRON DOLLY GIRL</td>\n",
       "      <td>6</td>\n",
       "      <td>09/12/2011</td>\n",
       "      <td>12:50:00</td>\n",
       "      <td>2.10</td>\n",
       "      <td>France</td>\n",
       "    </tr>\n",
       "    <tr>\n",
       "      <th>541906</th>\n",
       "      <td>581587</td>\n",
       "      <td>23254</td>\n",
       "      <td>CHILDRENS CUTLERY DOLLY GIRL</td>\n",
       "      <td>4</td>\n",
       "      <td>09/12/2011</td>\n",
       "      <td>12:50:00</td>\n",
       "      <td>4.15</td>\n",
       "      <td>France</td>\n",
       "    </tr>\n",
       "    <tr>\n",
       "      <th>541907</th>\n",
       "      <td>581587</td>\n",
       "      <td>23255</td>\n",
       "      <td>CHILDRENS CUTLERY CIRCUS PARADE</td>\n",
       "      <td>4</td>\n",
       "      <td>09/12/2011</td>\n",
       "      <td>12:50:00</td>\n",
       "      <td>4.15</td>\n",
       "      <td>France</td>\n",
       "    </tr>\n",
       "    <tr>\n",
       "      <th>541908</th>\n",
       "      <td>581587</td>\n",
       "      <td>22138</td>\n",
       "      <td>BAKING SET 9 PIECE RETROSPOT</td>\n",
       "      <td>3</td>\n",
       "      <td>09/12/2011</td>\n",
       "      <td>12:50:00</td>\n",
       "      <td>4.95</td>\n",
       "      <td>France</td>\n",
       "    </tr>\n",
       "  </tbody>\n",
       "</table>\n",
       "<p>338151 rows × 8 columns</p>\n",
       "</div>"
      ],
      "text/plain": [
       "       InvoiceNo StockCode                          Description  Quantity  \\\n",
       "0         536365    85123A   WHITE HANGING HEART T-LIGHT HOLDER         6   \n",
       "1         536365     71053                  WHITE METAL LANTERN         6   \n",
       "2         536365    84406B       CREAM CUPID HEARTS COAT HANGER         8   \n",
       "3         536365    84029G  KNITTED UNION FLAG HOT WATER BOTTLE         6   \n",
       "4         536365    84029E       RED WOOLLY HOTTIE WHITE HEART.         6   \n",
       "...          ...       ...                                  ...       ...   \n",
       "541904    581587     22613          PACK OF 20 SPACEBOY NAPKINS        12   \n",
       "541905    581587     22899         CHILDREN'S APRON DOLLY GIRL          6   \n",
       "541906    581587     23254        CHILDRENS CUTLERY DOLLY GIRL          4   \n",
       "541907    581587     23255      CHILDRENS CUTLERY CIRCUS PARADE         4   \n",
       "541908    581587     22138        BAKING SET 9 PIECE RETROSPOT          3   \n",
       "\n",
       "       InvoiceDate InvoiceTime  UnitPrice         Country  \n",
       "0       01/12/2010    08:26:00       2.55  United Kingdom  \n",
       "1       01/12/2010    08:26:00       3.39  United Kingdom  \n",
       "2       01/12/2010    08:26:00       2.75  United Kingdom  \n",
       "3       01/12/2010    08:26:00       3.39  United Kingdom  \n",
       "4       01/12/2010    08:26:00       3.39  United Kingdom  \n",
       "...            ...         ...        ...             ...  \n",
       "541904  09/12/2011    12:50:00       0.85          France  \n",
       "541905  09/12/2011    12:50:00       2.10          France  \n",
       "541906  09/12/2011    12:50:00       4.15          France  \n",
       "541907  09/12/2011    12:50:00       4.15          France  \n",
       "541908  09/12/2011    12:50:00       4.95          France  \n",
       "\n",
       "[338151 rows x 8 columns]"
      ]
     },
     "execution_count": 36,
     "metadata": {},
     "output_type": "execute_result"
    }
   ],
   "source": [
    "df"
   ]
  },
  {
   "cell_type": "markdown",
   "id": "60643188-a5b5-4d54-83c2-f6104c9b57d8",
   "metadata": {},
   "source": [
    "# 4 - Levantamento de hipóteses"
   ]
  },
  {
   "cell_type": "code",
   "execution_count": null,
   "id": "538e854f-71f9-4a34-ba0c-156c23162e33",
   "metadata": {},
   "outputs": [],
   "source": []
  }
 ],
 "metadata": {
  "kernelspec": {
   "display_name": "Python 3 (ipykernel)",
   "language": "python",
   "name": "python3"
  },
  "language_info": {
   "codemirror_mode": {
    "name": "ipython",
    "version": 3
   },
   "file_extension": ".py",
   "mimetype": "text/x-python",
   "name": "python",
   "nbconvert_exporter": "python",
   "pygments_lexer": "ipython3",
   "version": "3.13.3"
  }
 },
 "nbformat": 4,
 "nbformat_minor": 5
}
